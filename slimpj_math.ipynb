{
 "cells": [
  {
   "cell_type": "code",
   "execution_count": 2,
   "id": "d35d876d",
   "metadata": {},
   "outputs": [],
   "source": [
    "import matplotlib.pyplot as plt\n",
    "import torch"
   ]
  },
  {
   "cell_type": "code",
   "execution_count": 11,
   "id": "4b56f723",
   "metadata": {},
   "outputs": [],
   "source": [
    "n = [2, 4, 8, 16, 32, 64, 128, 256, 512, 1024]\n",
    "data_1 = []\n",
    "data_2 = []\n",
    "samples = 6\n",
    "\n",
    "for i in n:\n",
    "    avg_1 = 0\n",
    "    avg_2 = 0\n",
    "    for j in range(samples):\n",
    "        a = torch.randn(64, 128, i)\n",
    "        avg_1 += a.norm().item() / i**(1/2)\n",
    "        avg_2 += a.norm(p=2, dim=-1).mean().item() / i**(1/2)\n",
    "\n",
    "    data_1.append(avg_1 / samples)\n",
    "    data_2.append(avg_2 / samples)"
   ]
  },
  {
   "cell_type": "code",
   "execution_count": 18,
   "id": "11072d7a",
   "metadata": {},
   "outputs": [
    {
     "data": {
      "image/png": "[encoded data removed]",
      "text/plain": [
       "<Figure size 640x480 with 1 Axes>"
      ]
     },
     "metadata": {},
     "output_type": "display_data"
    }
   ],
   "source": [
    "plt.plot(n, data_1)\n",
    "plt.plot(n, data_2)\n",
    "\n",
    "plt.xscale('log')\n",
    "plt.yscale('log')"
   ]
  },
  {
   "cell_type": "code",
   "execution_count": null,
   "id": "bf94d381",
   "metadata": {},
   "outputs": [],
   "source": [
    "A = torch.randn(128, 100)"
   ]
  },
  {
   "cell_type": "code",
   "execution_count": 6,
   "id": "46ea82ea",
   "metadata": {},
   "outputs": [
    {
     "name": "stdout",
     "output_type": "stream",
     "text": [
      "11.245514678955079\n",
      "tensor(0.9918)\n"
     ]
    }
   ],
   "source": [
    "print(A.norm().item() / 10)\n",
    "print(A.norm(p=2, dim=-1).mean() / 10)"
   ]
  },
  {
   "cell_type": "code",
   "execution_count": null,
   "id": "61fb789e",
   "metadata": {},
   "outputs": [],
   "source": []
  }
 ],
 "metadata": {
  "kernelspec": {
   "display_name": "nanogpt",
   "language": "python",
   "name": "python3"
  },
  "language_info": {
   "codemirror_mode": {
    "name": "ipython",
    "version": 3
   },
   "file_extension": ".py",
   "mimetype": "text/x-python",
   "name": "python",
   "nbconvert_exporter": "python",
   "pygments_lexer": "ipython3",
   "version": "3.10.16"
  }
 },
 "nbformat": 4,
 "nbformat_minor": 5
}
